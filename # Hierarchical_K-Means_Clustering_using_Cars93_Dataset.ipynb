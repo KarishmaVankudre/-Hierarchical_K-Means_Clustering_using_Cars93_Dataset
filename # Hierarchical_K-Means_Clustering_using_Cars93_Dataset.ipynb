{
 "cells": [
  {
   "cell_type": "markdown",
   "id": "ac185fd6",
   "metadata": {},
   "source": [
    "# Hierarchical / K-Means Clustering using Cars93 Dataset"
   ]
  },
  {
   "cell_type": "markdown",
   "id": "41ee7df8",
   "metadata": {},
   "source": [
    "# Read Dataset"
   ]
  },
  {
   "cell_type": "code",
   "execution_count": 1,
   "id": "856312c4",
   "metadata": {},
   "outputs": [],
   "source": [
    "from warnings import filterwarnings\n",
    "filterwarnings(\"ignore\")"
   ]
  },
  {
   "cell_type": "code",
   "execution_count": 2,
   "id": "79cb13b3",
   "metadata": {},
   "outputs": [],
   "source": [
    "import pandas as pd\n",
    "A = pd.read_csv(\"C:/Dataset/Dataset/Cars93.csv\")"
   ]
  },
  {
   "cell_type": "code",
   "execution_count": 3,
   "id": "8df22a86",
   "metadata": {},
   "outputs": [
    {
     "data": {
      "text/html": [
       "<div>\n",
       "<style scoped>\n",
       "    .dataframe tbody tr th:only-of-type {\n",
       "        vertical-align: middle;\n",
       "    }\n",
       "\n",
       "    .dataframe tbody tr th {\n",
       "        vertical-align: top;\n",
       "    }\n",
       "\n",
       "    .dataframe thead th {\n",
       "        text-align: right;\n",
       "    }\n",
       "</style>\n",
       "<table border=\"1\" class=\"dataframe\">\n",
       "  <thead>\n",
       "    <tr style=\"text-align: right;\">\n",
       "      <th></th>\n",
       "      <th>id</th>\n",
       "      <th>Manufacturer</th>\n",
       "      <th>Model</th>\n",
       "      <th>Type</th>\n",
       "      <th>Min.Price</th>\n",
       "      <th>Price</th>\n",
       "      <th>Max.Price</th>\n",
       "      <th>MPG.city</th>\n",
       "      <th>MPG.highway</th>\n",
       "      <th>AirBags</th>\n",
       "      <th>...</th>\n",
       "      <th>Passengers</th>\n",
       "      <th>Length</th>\n",
       "      <th>Wheelbase</th>\n",
       "      <th>Width</th>\n",
       "      <th>Turn.circle</th>\n",
       "      <th>Rear.seat.room</th>\n",
       "      <th>Luggage.room</th>\n",
       "      <th>Weight</th>\n",
       "      <th>Origin</th>\n",
       "      <th>Make</th>\n",
       "    </tr>\n",
       "  </thead>\n",
       "  <tbody>\n",
       "    <tr>\n",
       "      <th>0</th>\n",
       "      <td>1</td>\n",
       "      <td>Acura</td>\n",
       "      <td>Integra</td>\n",
       "      <td>Small</td>\n",
       "      <td>12.9</td>\n",
       "      <td>15.9</td>\n",
       "      <td>18.8</td>\n",
       "      <td>25</td>\n",
       "      <td>31</td>\n",
       "      <td>None</td>\n",
       "      <td>...</td>\n",
       "      <td>5</td>\n",
       "      <td>177</td>\n",
       "      <td>102</td>\n",
       "      <td>68</td>\n",
       "      <td>37</td>\n",
       "      <td>26.5</td>\n",
       "      <td>11.0</td>\n",
       "      <td>2705</td>\n",
       "      <td>non-USA</td>\n",
       "      <td>Acura Integra</td>\n",
       "    </tr>\n",
       "    <tr>\n",
       "      <th>1</th>\n",
       "      <td>2</td>\n",
       "      <td>Acura</td>\n",
       "      <td>Legend</td>\n",
       "      <td>Midsize</td>\n",
       "      <td>29.2</td>\n",
       "      <td>33.9</td>\n",
       "      <td>38.7</td>\n",
       "      <td>18</td>\n",
       "      <td>25</td>\n",
       "      <td>Driver &amp; Passenger</td>\n",
       "      <td>...</td>\n",
       "      <td>5</td>\n",
       "      <td>195</td>\n",
       "      <td>115</td>\n",
       "      <td>71</td>\n",
       "      <td>38</td>\n",
       "      <td>30.0</td>\n",
       "      <td>15.0</td>\n",
       "      <td>3560</td>\n",
       "      <td>non-USA</td>\n",
       "      <td>Acura Legend</td>\n",
       "    </tr>\n",
       "    <tr>\n",
       "      <th>2</th>\n",
       "      <td>3</td>\n",
       "      <td>Audi</td>\n",
       "      <td>90</td>\n",
       "      <td>Compact</td>\n",
       "      <td>25.9</td>\n",
       "      <td>29.1</td>\n",
       "      <td>32.3</td>\n",
       "      <td>20</td>\n",
       "      <td>26</td>\n",
       "      <td>Driver only</td>\n",
       "      <td>...</td>\n",
       "      <td>5</td>\n",
       "      <td>180</td>\n",
       "      <td>102</td>\n",
       "      <td>67</td>\n",
       "      <td>37</td>\n",
       "      <td>28.0</td>\n",
       "      <td>14.0</td>\n",
       "      <td>3375</td>\n",
       "      <td>non-USA</td>\n",
       "      <td>Audi 90</td>\n",
       "    </tr>\n",
       "  </tbody>\n",
       "</table>\n",
       "<p>3 rows × 28 columns</p>\n",
       "</div>"
      ],
      "text/plain": [
       "   id Manufacturer    Model     Type  Min.Price  Price  Max.Price  MPG.city  \\\n",
       "0   1        Acura  Integra    Small       12.9   15.9       18.8        25   \n",
       "1   2        Acura   Legend  Midsize       29.2   33.9       38.7        18   \n",
       "2   3         Audi       90  Compact       25.9   29.1       32.3        20   \n",
       "\n",
       "   MPG.highway             AirBags  ... Passengers Length  Wheelbase  Width  \\\n",
       "0           31                None  ...          5    177        102     68   \n",
       "1           25  Driver & Passenger  ...          5    195        115     71   \n",
       "2           26         Driver only  ...          5    180        102     67   \n",
       "\n",
       "   Turn.circle  Rear.seat.room Luggage.room  Weight   Origin           Make  \n",
       "0           37            26.5         11.0    2705  non-USA  Acura Integra  \n",
       "1           38            30.0         15.0    3560  non-USA   Acura Legend  \n",
       "2           37            28.0         14.0    3375  non-USA        Audi 90  \n",
       "\n",
       "[3 rows x 28 columns]"
      ]
     },
     "execution_count": 3,
     "metadata": {},
     "output_type": "execute_result"
    }
   ],
   "source": [
    "A.head(3)"
   ]
  },
  {
   "cell_type": "code",
   "execution_count": 4,
   "id": "fb069979",
   "metadata": {},
   "outputs": [],
   "source": [
    "cat = []\n",
    "con = []\n",
    "for i in A.columns:\n",
    "    if(A[i].dtypes == \"object\"):\n",
    "        cat.append(i)\n",
    "    else:\n",
    "        con.append(i)\n",
    "                \n",
    "# Missing Data Treatment\n",
    "    \n",
    "    for i in con:\n",
    "        x = A[i].mean()\n",
    "        A[i]=A[i].fillna(x)\n",
    "\n",
    "    for i in cat:\n",
    "        x = A[i].mode()[0]\n",
    "        A[i]=A[i].fillna(x)\n",
    "        "
   ]
  },
  {
   "cell_type": "code",
   "execution_count": 5,
   "id": "bb71b332",
   "metadata": {},
   "outputs": [],
   "source": [
    "X = A[[\"Price\",\"MPG.city\"]]"
   ]
  },
  {
   "cell_type": "code",
   "execution_count": 6,
   "id": "d8bd8f64",
   "metadata": {},
   "outputs": [],
   "source": [
    "from sklearn.preprocessing import StandardScaler\n",
    "ss = StandardScaler()\n",
    "Xnew = pd.DataFrame(ss.fit_transform(X),columns=X.columns)"
   ]
  },
  {
   "cell_type": "code",
   "execution_count": 7,
   "id": "dac65e9e",
   "metadata": {},
   "outputs": [],
   "source": [
    "from Functions import outliers"
   ]
  },
  {
   "cell_type": "code",
   "execution_count": 8,
   "id": "2450cafb",
   "metadata": {},
   "outputs": [],
   "source": [
    "ol = outliers(Xnew)"
   ]
  },
  {
   "cell_type": "code",
   "execution_count": 9,
   "id": "6e6bff21",
   "metadata": {},
   "outputs": [],
   "source": [
    "Xnew = Xnew.drop(index=ol,axis=1)"
   ]
  },
  {
   "cell_type": "code",
   "execution_count": 10,
   "id": "8c4143ad",
   "metadata": {},
   "outputs": [],
   "source": [
    "Xnew.index = range(0,Xnew.shape[0])"
   ]
  },
  {
   "cell_type": "code",
   "execution_count": 11,
   "id": "9d767630",
   "metadata": {},
   "outputs": [],
   "source": [
    "from sklearn.cluster import AgglomerativeClustering\n",
    "agc = AgglomerativeClustering(n_clusters=3)\n",
    "model = agc.fit(Xnew)"
   ]
  },
  {
   "cell_type": "code",
   "execution_count": 12,
   "id": "ba48f419",
   "metadata": {},
   "outputs": [],
   "source": [
    "Xnew['Cluster'] = model.labels_"
   ]
  },
  {
   "cell_type": "code",
   "execution_count": 13,
   "id": "6f1c7e60",
   "metadata": {},
   "outputs": [
    {
     "data": {
      "text/html": [
       "<div>\n",
       "<style scoped>\n",
       "    .dataframe tbody tr th:only-of-type {\n",
       "        vertical-align: middle;\n",
       "    }\n",
       "\n",
       "    .dataframe tbody tr th {\n",
       "        vertical-align: top;\n",
       "    }\n",
       "\n",
       "    .dataframe thead th {\n",
       "        text-align: right;\n",
       "    }\n",
       "</style>\n",
       "<table border=\"1\" class=\"dataframe\">\n",
       "  <thead>\n",
       "    <tr style=\"text-align: right;\">\n",
       "      <th></th>\n",
       "      <th>Price</th>\n",
       "      <th>MPG.city</th>\n",
       "      <th>Cluster</th>\n",
       "    </tr>\n",
       "  </thead>\n",
       "  <tbody>\n",
       "    <tr>\n",
       "      <th>0</th>\n",
       "      <td>-0.375720</td>\n",
       "      <td>0.471312</td>\n",
       "      <td>0</td>\n",
       "    </tr>\n",
       "    <tr>\n",
       "      <th>1</th>\n",
       "      <td>1.497844</td>\n",
       "      <td>-0.781032</td>\n",
       "      <td>2</td>\n",
       "    </tr>\n",
       "    <tr>\n",
       "      <th>2</th>\n",
       "      <td>0.998227</td>\n",
       "      <td>-0.423219</td>\n",
       "      <td>1</td>\n",
       "    </tr>\n",
       "    <tr>\n",
       "      <th>3</th>\n",
       "      <td>1.893374</td>\n",
       "      <td>-0.602126</td>\n",
       "      <td>2</td>\n",
       "    </tr>\n",
       "    <tr>\n",
       "      <th>4</th>\n",
       "      <td>1.091905</td>\n",
       "      <td>-0.065407</td>\n",
       "      <td>1</td>\n",
       "    </tr>\n",
       "    <tr>\n",
       "      <th>...</th>\n",
       "      <td>...</td>\n",
       "      <td>...</td>\n",
       "      <td>...</td>\n",
       "    </tr>\n",
       "    <tr>\n",
       "      <th>85</th>\n",
       "      <td>0.019810</td>\n",
       "      <td>-0.959938</td>\n",
       "      <td>1</td>\n",
       "    </tr>\n",
       "    <tr>\n",
       "      <th>86</th>\n",
       "      <td>0.051036</td>\n",
       "      <td>-0.244313</td>\n",
       "      <td>1</td>\n",
       "    </tr>\n",
       "    <tr>\n",
       "      <th>87</th>\n",
       "      <td>0.394523</td>\n",
       "      <td>-0.781032</td>\n",
       "      <td>1</td>\n",
       "    </tr>\n",
       "    <tr>\n",
       "      <th>88</th>\n",
       "      <td>0.332071</td>\n",
       "      <td>-0.244313</td>\n",
       "      <td>1</td>\n",
       "    </tr>\n",
       "    <tr>\n",
       "      <th>89</th>\n",
       "      <td>0.748418</td>\n",
       "      <td>-0.423219</td>\n",
       "      <td>1</td>\n",
       "    </tr>\n",
       "  </tbody>\n",
       "</table>\n",
       "<p>90 rows × 3 columns</p>\n",
       "</div>"
      ],
      "text/plain": [
       "       Price  MPG.city  Cluster\n",
       "0  -0.375720  0.471312        0\n",
       "1   1.497844 -0.781032        2\n",
       "2   0.998227 -0.423219        1\n",
       "3   1.893374 -0.602126        2\n",
       "4   1.091905 -0.065407        1\n",
       "..       ...       ...      ...\n",
       "85  0.019810 -0.959938        1\n",
       "86  0.051036 -0.244313        1\n",
       "87  0.394523 -0.781032        1\n",
       "88  0.332071 -0.244313        1\n",
       "89  0.748418 -0.423219        1\n",
       "\n",
       "[90 rows x 3 columns]"
      ]
     },
     "execution_count": 13,
     "metadata": {},
     "output_type": "execute_result"
    }
   ],
   "source": [
    "Xnew"
   ]
  },
  {
   "cell_type": "code",
   "execution_count": 14,
   "id": "4679099d",
   "metadata": {},
   "outputs": [
    {
     "data": {
      "text/plain": [
       "Text(0, 0.5, 'Mileage')"
      ]
     },
     "execution_count": 14,
     "metadata": {},
     "output_type": "execute_result"
    },
    {
     "data": {
      "image/png": "[encoded data removed]",
      "text/plain": [
       "<Figure size 640x480 with 1 Axes>"
      ]
     },
     "metadata": {},
     "output_type": "display_data"
    }
   ],
   "source": [
    "import matplotlib.pyplot as plt\n",
    "plt.scatter(Xnew.Price,Xnew['MPG.city'],s=17,c=model.labels_)\n",
    "plt.xlabel(\"Price\")\n",
    "plt.ylabel(\"Mileage\")"
   ]
  },
  {
   "cell_type": "markdown",
   "id": "978baece",
   "metadata": {},
   "source": [
    "# K-Means Clustering using Cars93 Dataset"
   ]
  },
  {
   "cell_type": "markdown",
   "id": "54af6299",
   "metadata": {},
   "source": [
    "# Preview of Dataset"
   ]
  },
  {
   "cell_type": "code",
   "execution_count": 15,
   "id": "2991715b",
   "metadata": {},
   "outputs": [
    {
     "data": {
      "text/html": [
       "<div>\n",
       "<style scoped>\n",
       "    .dataframe tbody tr th:only-of-type {\n",
       "        vertical-align: middle;\n",
       "    }\n",
       "\n",
       "    .dataframe tbody tr th {\n",
       "        vertical-align: top;\n",
       "    }\n",
       "\n",
       "    .dataframe thead th {\n",
       "        text-align: right;\n",
       "    }\n",
       "</style>\n",
       "<table border=\"1\" class=\"dataframe\">\n",
       "  <thead>\n",
       "    <tr style=\"text-align: right;\">\n",
       "      <th></th>\n",
       "      <th>id</th>\n",
       "      <th>Manufacturer</th>\n",
       "      <th>Model</th>\n",
       "      <th>Type</th>\n",
       "      <th>Min.Price</th>\n",
       "      <th>Price</th>\n",
       "      <th>Max.Price</th>\n",
       "      <th>MPG.city</th>\n",
       "      <th>MPG.highway</th>\n",
       "      <th>AirBags</th>\n",
       "      <th>...</th>\n",
       "      <th>Passengers</th>\n",
       "      <th>Length</th>\n",
       "      <th>Wheelbase</th>\n",
       "      <th>Width</th>\n",
       "      <th>Turn.circle</th>\n",
       "      <th>Rear.seat.room</th>\n",
       "      <th>Luggage.room</th>\n",
       "      <th>Weight</th>\n",
       "      <th>Origin</th>\n",
       "      <th>Make</th>\n",
       "    </tr>\n",
       "  </thead>\n",
       "  <tbody>\n",
       "    <tr>\n",
       "      <th>0</th>\n",
       "      <td>1</td>\n",
       "      <td>Acura</td>\n",
       "      <td>Integra</td>\n",
       "      <td>Small</td>\n",
       "      <td>12.9</td>\n",
       "      <td>15.9</td>\n",
       "      <td>18.8</td>\n",
       "      <td>25</td>\n",
       "      <td>31</td>\n",
       "      <td>None</td>\n",
       "      <td>...</td>\n",
       "      <td>5</td>\n",
       "      <td>177</td>\n",
       "      <td>102</td>\n",
       "      <td>68</td>\n",
       "      <td>37</td>\n",
       "      <td>26.5</td>\n",
       "      <td>11.0</td>\n",
       "      <td>2705</td>\n",
       "      <td>non-USA</td>\n",
       "      <td>Acura Integra</td>\n",
       "    </tr>\n",
       "    <tr>\n",
       "      <th>1</th>\n",
       "      <td>2</td>\n",
       "      <td>Acura</td>\n",
       "      <td>Legend</td>\n",
       "      <td>Midsize</td>\n",
       "      <td>29.2</td>\n",
       "      <td>33.9</td>\n",
       "      <td>38.7</td>\n",
       "      <td>18</td>\n",
       "      <td>25</td>\n",
       "      <td>Driver &amp; Passenger</td>\n",
       "      <td>...</td>\n",
       "      <td>5</td>\n",
       "      <td>195</td>\n",
       "      <td>115</td>\n",
       "      <td>71</td>\n",
       "      <td>38</td>\n",
       "      <td>30.0</td>\n",
       "      <td>15.0</td>\n",
       "      <td>3560</td>\n",
       "      <td>non-USA</td>\n",
       "      <td>Acura Legend</td>\n",
       "    </tr>\n",
       "    <tr>\n",
       "      <th>2</th>\n",
       "      <td>3</td>\n",
       "      <td>Audi</td>\n",
       "      <td>90</td>\n",
       "      <td>Compact</td>\n",
       "      <td>25.9</td>\n",
       "      <td>29.1</td>\n",
       "      <td>32.3</td>\n",
       "      <td>20</td>\n",
       "      <td>26</td>\n",
       "      <td>Driver only</td>\n",
       "      <td>...</td>\n",
       "      <td>5</td>\n",
       "      <td>180</td>\n",
       "      <td>102</td>\n",
       "      <td>67</td>\n",
       "      <td>37</td>\n",
       "      <td>28.0</td>\n",
       "      <td>14.0</td>\n",
       "      <td>3375</td>\n",
       "      <td>non-USA</td>\n",
       "      <td>Audi 90</td>\n",
       "    </tr>\n",
       "  </tbody>\n",
       "</table>\n",
       "<p>3 rows × 28 columns</p>\n",
       "</div>"
      ],
      "text/plain": [
       "   id Manufacturer    Model     Type  Min.Price  Price  Max.Price  MPG.city  \\\n",
       "0   1        Acura  Integra    Small       12.9   15.9       18.8        25   \n",
       "1   2        Acura   Legend  Midsize       29.2   33.9       38.7        18   \n",
       "2   3         Audi       90  Compact       25.9   29.1       32.3        20   \n",
       "\n",
       "   MPG.highway             AirBags  ... Passengers Length  Wheelbase  Width  \\\n",
       "0           31                None  ...          5    177        102     68   \n",
       "1           25  Driver & Passenger  ...          5    195        115     71   \n",
       "2           26         Driver only  ...          5    180        102     67   \n",
       "\n",
       "   Turn.circle  Rear.seat.room Luggage.room  Weight   Origin           Make  \n",
       "0           37            26.5         11.0    2705  non-USA  Acura Integra  \n",
       "1           38            30.0         15.0    3560  non-USA   Acura Legend  \n",
       "2           37            28.0         14.0    3375  non-USA        Audi 90  \n",
       "\n",
       "[3 rows x 28 columns]"
      ]
     },
     "execution_count": 15,
     "metadata": {},
     "output_type": "execute_result"
    }
   ],
   "source": [
    "A.head(3)"
   ]
  },
  {
   "cell_type": "code",
   "execution_count": 16,
   "id": "3522384e",
   "metadata": {},
   "outputs": [],
   "source": [
    "Q = A[[\"Price\",\"MPG.highway\"]]"
   ]
  },
  {
   "cell_type": "code",
   "execution_count": 17,
   "id": "8eae3ef8",
   "metadata": {},
   "outputs": [],
   "source": [
    "cat = []\n",
    "con = []\n",
    "for i in A.columns:\n",
    "    if(A[i].dtypes == \"object\"):\n",
    "        cat.append(i)\n",
    "    else:\n",
    "        con.append(i)\n",
    "                \n",
    "# Missing Data Treatment\n",
    "    \n",
    "    for i in con:\n",
    "        x = A[i].mean()\n",
    "        A[i]=A[i].fillna(x)\n",
    "\n",
    "    for i in cat:\n",
    "        x = A[i].mode()[0]\n",
    "        A[i]=A[i].fillna(x)\n",
    "        "
   ]
  },
  {
   "cell_type": "code",
   "execution_count": 38,
   "id": "1206bb0d",
   "metadata": {},
   "outputs": [],
   "source": [
    "from sklearn.preprocessing import StandardScaler\n",
    "ss = StandardScaler()\n",
    "Xnew1 = pd.DataFrame(ss.fit_transform(Q),columns=Q.columns)"
   ]
  },
  {
   "cell_type": "code",
   "execution_count": 19,
   "id": "190b0314",
   "metadata": {},
   "outputs": [],
   "source": [
    "from Functions import outliers"
   ]
  },
  {
   "cell_type": "code",
   "execution_count": 20,
   "id": "5bfc2466",
   "metadata": {},
   "outputs": [],
   "source": [
    "ol = outliers(Xnew1)"
   ]
  },
  {
   "cell_type": "code",
   "execution_count": 22,
   "id": "669b879a",
   "metadata": {},
   "outputs": [],
   "source": [
    "Xnew1 = Xnew1.drop(index=ol,axis=1)\n",
    "Xnew1.index = range(0,Xnew1.shape[0])"
   ]
  },
  {
   "cell_type": "markdown",
   "id": "c1a360b5",
   "metadata": {},
   "source": [
    "# K-Means Clustering"
   ]
  },
  {
   "cell_type": "code",
   "execution_count": 23,
   "id": "b3142c8c",
   "metadata": {},
   "outputs": [
    {
     "data": {
      "text/plain": [
       "array([0, 1, 1, 1, 1, 0, 0, 3, 1, 1, 1, 2, 2, 0, 0, 3, 3, 3, 1, 0, 0, 1,\n",
       "       2, 0, 0, 3, 0, 3, 2, 0, 2, 0, 0, 0, 0, 3, 0, 3, 2, 0, 0, 2, 0, 2,\n",
       "       0, 1, 1, 1, 1, 1, 2, 2, 2, 3, 1, 1, 0, 0, 2, 3, 2, 0, 3, 3, 0, 0,\n",
       "       3, 0, 0, 2, 0, 0, 0, 0, 1, 2, 2, 0, 0, 2, 2, 0, 0, 3, 2, 3, 0, 3,\n",
       "       0, 1])"
      ]
     },
     "execution_count": 23,
     "metadata": {},
     "output_type": "execute_result"
    }
   ],
   "source": [
    "from sklearn.cluster import KMeans\n",
    "km = KMeans(n_clusters=4)\n",
    "model = km.fit(Xnew1)\n",
    "model.labels_"
   ]
  },
  {
   "cell_type": "code",
   "execution_count": 24,
   "id": "b50ad338",
   "metadata": {},
   "outputs": [],
   "source": [
    "Xnew1[\"Cluster\"] = model.labels_"
   ]
  },
  {
   "cell_type": "code",
   "execution_count": 25,
   "id": "d7bd3f7a",
   "metadata": {},
   "outputs": [],
   "source": [
    "Xnew1[\"Model\"] = A.Model"
   ]
  },
  {
   "cell_type": "code",
   "execution_count": 26,
   "id": "ba993ba7",
   "metadata": {},
   "outputs": [],
   "source": [
    "Xnew1[\"Make\"] = A.Make"
   ]
  },
  {
   "cell_type": "code",
   "execution_count": 27,
   "id": "6796f095",
   "metadata": {},
   "outputs": [
    {
     "data": {
      "text/html": [
       "<div>\n",
       "<style scoped>\n",
       "    .dataframe tbody tr th:only-of-type {\n",
       "        vertical-align: middle;\n",
       "    }\n",
       "\n",
       "    .dataframe tbody tr th {\n",
       "        vertical-align: top;\n",
       "    }\n",
       "\n",
       "    .dataframe thead th {\n",
       "        text-align: right;\n",
       "    }\n",
       "</style>\n",
       "<table border=\"1\" class=\"dataframe\">\n",
       "  <thead>\n",
       "    <tr style=\"text-align: right;\">\n",
       "      <th></th>\n",
       "      <th>Price</th>\n",
       "      <th>MPG.highway</th>\n",
       "      <th>Cluster</th>\n",
       "      <th>Model</th>\n",
       "      <th>Make</th>\n",
       "    </tr>\n",
       "  </thead>\n",
       "  <tbody>\n",
       "    <tr>\n",
       "      <th>0</th>\n",
       "      <td>-0.375720</td>\n",
       "      <td>0.360925</td>\n",
       "      <td>0</td>\n",
       "      <td>Integra</td>\n",
       "      <td>Acura Integra</td>\n",
       "    </tr>\n",
       "    <tr>\n",
       "      <th>1</th>\n",
       "      <td>1.497844</td>\n",
       "      <td>-0.770514</td>\n",
       "      <td>1</td>\n",
       "      <td>Legend</td>\n",
       "      <td>Acura Legend</td>\n",
       "    </tr>\n",
       "    <tr>\n",
       "      <th>2</th>\n",
       "      <td>0.998227</td>\n",
       "      <td>-0.581941</td>\n",
       "      <td>1</td>\n",
       "      <td>90</td>\n",
       "      <td>Audi 90</td>\n",
       "    </tr>\n",
       "    <tr>\n",
       "      <th>3</th>\n",
       "      <td>1.893374</td>\n",
       "      <td>-0.581941</td>\n",
       "      <td>1</td>\n",
       "      <td>100</td>\n",
       "      <td>Audi 100</td>\n",
       "    </tr>\n",
       "    <tr>\n",
       "      <th>4</th>\n",
       "      <td>1.091905</td>\n",
       "      <td>0.172352</td>\n",
       "      <td>1</td>\n",
       "      <td>535i</td>\n",
       "      <td>BMW 535i</td>\n",
       "    </tr>\n",
       "    <tr>\n",
       "      <th>...</th>\n",
       "      <td>...</td>\n",
       "      <td>...</td>\n",
       "      <td>...</td>\n",
       "      <td>...</td>\n",
       "      <td>...</td>\n",
       "    </tr>\n",
       "    <tr>\n",
       "      <th>85</th>\n",
       "      <td>0.019810</td>\n",
       "      <td>-1.524806</td>\n",
       "      <td>3</td>\n",
       "      <td>Camry</td>\n",
       "      <td>Toyota Camry</td>\n",
       "    </tr>\n",
       "    <tr>\n",
       "      <th>86</th>\n",
       "      <td>0.051036</td>\n",
       "      <td>0.172352</td>\n",
       "      <td>0</td>\n",
       "      <td>Previa</td>\n",
       "      <td>Toyota Previa</td>\n",
       "    </tr>\n",
       "    <tr>\n",
       "      <th>87</th>\n",
       "      <td>0.394523</td>\n",
       "      <td>-0.770514</td>\n",
       "      <td>3</td>\n",
       "      <td>Fox</td>\n",
       "      <td>Volkswagen Fox</td>\n",
       "    </tr>\n",
       "    <tr>\n",
       "      <th>88</th>\n",
       "      <td>0.332071</td>\n",
       "      <td>-0.204794</td>\n",
       "      <td>0</td>\n",
       "      <td>Eurovan</td>\n",
       "      <td>Volkswagen Eurovan</td>\n",
       "    </tr>\n",
       "    <tr>\n",
       "      <th>89</th>\n",
       "      <td>0.748418</td>\n",
       "      <td>-0.204794</td>\n",
       "      <td>1</td>\n",
       "      <td>Passat</td>\n",
       "      <td>Volkswagen Passat</td>\n",
       "    </tr>\n",
       "  </tbody>\n",
       "</table>\n",
       "<p>90 rows × 5 columns</p>\n",
       "</div>"
      ],
      "text/plain": [
       "       Price  MPG.highway  Cluster    Model                Make\n",
       "0  -0.375720     0.360925        0  Integra       Acura Integra\n",
       "1   1.497844    -0.770514        1   Legend        Acura Legend\n",
       "2   0.998227    -0.581941        1       90             Audi 90\n",
       "3   1.893374    -0.581941        1      100            Audi 100\n",
       "4   1.091905     0.172352        1     535i            BMW 535i\n",
       "..       ...          ...      ...      ...                 ...\n",
       "85  0.019810    -1.524806        3    Camry        Toyota Camry\n",
       "86  0.051036     0.172352        0   Previa       Toyota Previa\n",
       "87  0.394523    -0.770514        3      Fox      Volkswagen Fox\n",
       "88  0.332071    -0.204794        0  Eurovan  Volkswagen Eurovan\n",
       "89  0.748418    -0.204794        1   Passat   Volkswagen Passat\n",
       "\n",
       "[90 rows x 5 columns]"
      ]
     },
     "execution_count": 27,
     "metadata": {},
     "output_type": "execute_result"
    }
   ],
   "source": [
    "Xnew1"
   ]
  },
  {
   "cell_type": "markdown",
   "id": "3e5ba919",
   "metadata": {},
   "source": [
    "# Taking input from user"
   ]
  },
  {
   "cell_type": "code",
   "execution_count": 29,
   "id": "6e9508d4",
   "metadata": {},
   "outputs": [
    {
     "name": "stdout",
     "output_type": "stream",
     "text": [
      "Enter your Favourite Car : Toyota Camry\n"
     ]
    }
   ],
   "source": [
    "I = input(\"Enter your Favourite Car : \")"
   ]
  },
  {
   "cell_type": "code",
   "execution_count": 30,
   "id": "f224c426",
   "metadata": {},
   "outputs": [],
   "source": [
    "Cluster_no = Xnew1[Xnew1.Make == I].Cluster.values[0]"
   ]
  },
  {
   "cell_type": "code",
   "execution_count": 31,
   "id": "abe55418",
   "metadata": {},
   "outputs": [
    {
     "data": {
      "text/plain": [
       "3"
      ]
     },
     "execution_count": 31,
     "metadata": {},
     "output_type": "execute_result"
    }
   ],
   "source": [
    "Cluster_no"
   ]
  },
  {
   "cell_type": "code",
   "execution_count": 32,
   "id": "e6310988",
   "metadata": {},
   "outputs": [],
   "source": [
    "L = list(Xnew1[Xnew1.Cluster == Cluster_no][\"Make\"].values)"
   ]
  },
  {
   "cell_type": "code",
   "execution_count": 33,
   "id": "dd03641b",
   "metadata": {},
   "outputs": [
    {
     "data": {
      "text/plain": [
       "['Buick Roadmaster',\n",
       " 'Chevrolet Lumina_APV',\n",
       " 'Chevrolet Astro',\n",
       " 'Chevrolet Caprice',\n",
       " 'Dodge Caravan',\n",
       " 'Dodge Stealth',\n",
       " 'Ford Aerostar',\n",
       " 'Ford Crown_Victoria',\n",
       " 'Mazda Protege',\n",
       " 'Mercury Capri',\n",
       " 'Mitsubishi Diamante',\n",
       " 'Nissan Sentra',\n",
       " 'Nissan Maxima',\n",
       " 'Toyota Tercel',\n",
       " 'Toyota Camry',\n",
       " 'Volkswagen Fox']"
      ]
     },
     "execution_count": 33,
     "metadata": {},
     "output_type": "execute_result"
    }
   ],
   "source": [
    "L"
   ]
  },
  {
   "cell_type": "code",
   "execution_count": 34,
   "id": "18de2fcc",
   "metadata": {},
   "outputs": [],
   "source": [
    "L.remove(I)"
   ]
  },
  {
   "cell_type": "code",
   "execution_count": 35,
   "id": "d072f90d",
   "metadata": {},
   "outputs": [
    {
     "data": {
      "text/plain": [
       "['Buick Roadmaster',\n",
       " 'Chevrolet Lumina_APV',\n",
       " 'Chevrolet Astro',\n",
       " 'Chevrolet Caprice',\n",
       " 'Dodge Caravan',\n",
       " 'Dodge Stealth',\n",
       " 'Ford Aerostar',\n",
       " 'Ford Crown_Victoria',\n",
       " 'Mazda Protege',\n",
       " 'Mercury Capri',\n",
       " 'Mitsubishi Diamante',\n",
       " 'Nissan Sentra',\n",
       " 'Nissan Maxima',\n",
       " 'Toyota Tercel',\n",
       " 'Volkswagen Fox']"
      ]
     },
     "execution_count": 35,
     "metadata": {},
     "output_type": "execute_result"
    }
   ],
   "source": [
    "L"
   ]
  },
  {
   "cell_type": "code",
   "execution_count": 36,
   "id": "7cd37035",
   "metadata": {},
   "outputs": [
    {
     "name": "stdout",
     "output_type": "stream",
     "text": [
      "You can also check from recomended cars  : \n",
      " ['Buick Roadmaster', 'Chevrolet Lumina_APV', 'Chevrolet Astro', 'Chevrolet Caprice', 'Dodge Caravan', 'Dodge Stealth', 'Ford Aerostar', 'Ford Crown_Victoria', 'Mazda Protege', 'Mercury Capri', 'Mitsubishi Diamante', 'Nissan Sentra', 'Nissan Maxima', 'Toyota Tercel', 'Volkswagen Fox']\n"
     ]
    }
   ],
   "source": [
    "print(\"You can also check from recomended cars  : \\n\",L)"
   ]
  }
 ],
 "metadata": {
  "kernelspec": {
   "display_name": "Python 3 (ipykernel)",
   "language": "python",
   "name": "python3"
  },
  "language_info": {
   "codemirror_mode": {
    "name": "ipython",
    "version": 3
   },
   "file_extension": ".py",
   "mimetype": "text/x-python",
   "name": "python",
   "nbconvert_exporter": "python",
   "pygments_lexer": "ipython3",
   "version": "3.9.13"
  }
 },
 "nbformat": 4,
 "nbformat_minor": 5
}
